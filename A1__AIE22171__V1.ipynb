{
 "cells": [
  {
   "cell_type": "markdown",
   "metadata": {},
   "source": [
    "# 1 . Consider the given list as [2,7,4,1,3,6]. Write a program to count pairs of elements with sum equal to 10."
   ]
  },
  {
   "cell_type": "code",
   "execution_count": 14,
   "metadata": {},
   "outputs": [
    {
     "name": "stdout",
     "output_type": "stream",
     "text": [
      "Number of pairs with sum 10 : 2\n"
     ]
    }
   ],
   "source": [
    "def possible_pairs(list, target_sum):\n",
    "    count = 0\n",
    "    for i in range(len(list)):                     #  Iterates through list\n",
    "        for j in range(i + 1, len(list)):          #  Iterates throuth the rest of the list except the above iteration\n",
    "            if list[i] + list[j] == target_sum:    #  checks if pair sum is 10\n",
    "                count += 1\n",
    "    return count\n",
    "\n",
    "numbers = [2, 7, 4, 1, 3, 6]\n",
    "target_sum = 10\n",
    "result = possible_pairs(numbers, target_sum)\n",
    "print(f\"Number of pairs with sum {target_sum} : {result}\")"
   ]
  },
  {
   "cell_type": "markdown",
   "metadata": {},
   "source": [
    "# 2 . Write a program that takes a list of real numbersas input and returns the range(difference between minimum and maximum) of the list. Check for list being lessthan 3 elementsin whichcase return anerror message(Ex: “Range determination not possible”). Given a list [5,3,8,1,0,4] ,the range is 8(8-0)."
   ]
  },
  {
   "cell_type": "code",
   "execution_count": 15,
   "metadata": {},
   "outputs": [
    {
     "name": "stdout",
     "output_type": "stream",
     "text": [
      "Range of the list: 8 (8-0)\n"
     ]
    }
   ],
   "source": [
    "def calculate_range(list):\n",
    "    if len(list) < 3:\n",
    "        return \"Range determination not possible\"\n",
    "    return max(list) - min(list)\n",
    "\n",
    "numbers = [5, 3, 8, 1, 0, 4]\n",
    "result = calculate_range(numbers)\n",
    "print(f\"Range of the list: {result} ({max(numbers)}-{min(numbers)})\")"
   ]
  },
  {
   "cell_type": "markdown",
   "metadata": {},
   "source": [
    "# 3 . Write a program that accepts a square matrix A and a positive integer m as arguments and returns A^m."
   ]
  },
  {
   "cell_type": "code",
   "execution_count": 16,
   "metadata": {},
   "outputs": [
    {
     "name": "stdout",
     "output_type": "stream",
     "text": [
      "\n",
      "A^2 : \n",
      "[[ 7 10]\n",
      " [15 22]]\n"
     ]
    }
   ],
   "source": [
    "import numpy as np\n",
    "\n",
    "def multiply_matrices(matrix1, matrix2):\n",
    "    result = []\n",
    "    for i in range(len(matrix1)):           # Iteration of rows of the matrix1\n",
    "        row = []\n",
    "        for j in range(len(matrix2[0])):    # Iteration of columns of the matrix2\n",
    "            value = 0\n",
    "            for k in range(len(matrix2)):\n",
    "                \n",
    "                value += matrix1[i][k] * matrix2[k][j]   # Performs matrix multiplication by multiplying and adding \n",
    "            row.append(value)                            # Append the value to the row\n",
    "        result.append(row)                               # Append the row to the result\n",
    "    return result\n",
    "\n",
    "def recursive_multiplication(matrix, power):\n",
    "    if power == 0:\n",
    "        return np.eye(len(matrix))                       # return the identity matrix of the same size as the input matrix\n",
    "    \n",
    "    result = matrix\n",
    "    for _ in range(power - 1):\n",
    "        result = multiply_matrices(result, matrix)       # Multiply the result matrix by the input matrix (power - 1) times\n",
    "    return result\n",
    "\n",
    "A = [[1, 2],\n",
    "     [3, 4]]\n",
    "\n",
    "m = 2\n",
    "result = recursive_multiplication(A, m)\n",
    "print(f\"\\nA^{m} : \\n{np.array(result)}\")\n"
   ]
  },
  {
   "cell_type": "markdown",
   "metadata": {},
   "source": [
    "# 4 . Write a program to count the highest occurring character & its occurrence count in an inputstring. Consideronly alphabets. Ex:  for “hippopotamus”as inputstring, the maximally occurring character is ‘p’& occurrence count is 3."
   ]
  },
  {
   "cell_type": "code",
   "execution_count": 17,
   "metadata": {},
   "outputs": [
    {
     "name": "stdout",
     "output_type": "stream",
     "text": [
      "The frequently occurring character is 'p' with frequency of 3.\n"
     ]
    }
   ],
   "source": [
    "def character_frequency(input_string):\n",
    "    char_count = {}           # empty dictionary for character count\n",
    "    for char in input_string: # Iterates through each character in the input\n",
    "        if char.isalpha():    # Checks if the character is an alphabet\n",
    "            char_count[char] = char_count.get(char, 0) + 1\n",
    "    frequent_char = max(char_count, key=char_count.get)    # Finds the character with the highest frequency\n",
    "    frequency = char_count[frequent_char]                  # Finds the count of the frequently character\n",
    "    return frequent_char, frequency                        # Return the frequently occurring character and its count\n",
    "\n",
    "input_string = \"hippopotamus\"\n",
    "result_char, result_frequency = character_frequency(input_string)\n",
    "print(f\"The frequently occurring character is '{result_char}' with frequency of {result_frequency}.\")\n"
   ]
  }
 ],
 "metadata": {
  "kernelspec": {
   "display_name": "base",
   "language": "python",
   "name": "python3"
  },
  "language_info": {
   "codemirror_mode": {
    "name": "ipython",
    "version": 3
   },
   "file_extension": ".py",
   "mimetype": "text/x-python",
   "name": "python",
   "nbconvert_exporter": "python",
   "pygments_lexer": "ipython3",
   "version": "3.11.5"
  }
 },
 "nbformat": 4,
 "nbformat_minor": 2
}
